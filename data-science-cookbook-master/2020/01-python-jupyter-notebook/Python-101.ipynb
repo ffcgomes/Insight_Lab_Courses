{
 "cells": [
  {
   "cell_type": "markdown",
   "metadata": {},
   "source": [
    "# Garimpagem de Dados\n",
    "## Aula 1 - Python Básico"
   ]
  },
  {
   "cell_type": "markdown",
   "metadata": {},
   "source": [
    "### Nulo\n",
    "Em Python, o tipo **None** representa a falta de valor em uma variável"
   ]
  },
  {
   "cell_type": "code",
   "execution_count": null,
   "metadata": {},
   "outputs": [],
   "source": [
    "a = None\n",
    "if a is None:\n",
    "    print('nulo')"
   ]
  },
  {
   "cell_type": "markdown",
   "metadata": {},
   "source": [
    "### Boolean\n",
    "Booleanos são escritos com a primeira letra maiúscula"
   ]
  },
  {
   "cell_type": "code",
   "execution_count": null,
   "metadata": {},
   "outputs": [],
   "source": [
    "a = True\n",
    "b = False\n",
    "c = True\n",
    "print(a == b)\n",
    "print(a == c)"
   ]
  },
  {
   "cell_type": "markdown",
   "metadata": {},
   "source": [
    "### Números\n",
    "Em python, existem dois tipos básicos de números: Inteiros (int) e Ponto Flutuante (float)"
   ]
  },
  {
   "cell_type": "code",
   "execution_count": null,
   "metadata": {},
   "outputs": [],
   "source": [
    "print(type(1))\n",
    "print(type(1.2))"
   ]
  },
  {
   "cell_type": "markdown",
   "metadata": {},
   "source": [
    "Ao dividir dois números (inteiros ou flutuantes), podemos fazer a divisão comum (/) ou divisão inteira (//), onde a última mantém apenas a parte inteira do resultado"
   ]
  },
  {
   "cell_type": "code",
   "execution_count": null,
   "metadata": {},
   "outputs": [],
   "source": [
    "print(\"Divisao: \",1 / 2)\n",
    "print(\"Divisao inteira: \",1 // 2)"
   ]
  },
  {
   "cell_type": "markdown",
   "metadata": {},
   "source": [
    "Existe também o operador de potência, permitindo elevar um número ao outro.\n",
    "**PS**: como as raízes também são potências (porém, invertidas), podemos computá-las com o mesmo operador"
   ]
  },
  {
   "cell_type": "code",
   "execution_count": null,
   "metadata": {},
   "outputs": [],
   "source": [
    "print(2 ** 3)\n",
    "print(25 ** (1/2))"
   ]
  },
  {
   "cell_type": "markdown",
   "metadata": {},
   "source": [
    "Python, assim como muitas linguagens, conta com um módulo que implementa diversas funções matemáticas (raíz, logaritmo, topo, piso, etc."
   ]
  },
  {
   "cell_type": "code",
   "execution_count": null,
   "metadata": {},
   "outputs": [],
   "source": [
    "import math\n",
    "print(math.sqrt(2))\n",
    "print(math.log(2))\n",
    "print(math.ceil(2 ** 0.5))\n",
    "print(math.floor(2 ** 0.5))"
   ]
  },
  {
   "cell_type": "markdown",
   "metadata": {},
   "source": [
    "Python também conta um módulo de funções para operações randômicas"
   ]
  },
  {
   "cell_type": "code",
   "execution_count": null,
   "metadata": {},
   "outputs": [],
   "source": [
    "import random\n",
    "print(random.random())        # normalizado entre 0 e 1\n",
    "print(random.randint(1,10))   # intervalo fechado"
   ]
  },
  {
   "cell_type": "markdown",
   "metadata": {},
   "source": [
    "### Strings\n",
    "Em Python, trabalhar com strings é bem simples, uma vez que já existem diversas funções implementadas.\n",
    "\n",
    "Para criar uma string em Python, basta colocar o conteúdo entre aspas, simples ou duplas (o tipo de aspas que começa a string é o mesmo tipo que irá finalizá-la)"
   ]
  },
  {
   "cell_type": "code",
   "execution_count": null,
   "metadata": {},
   "outputs": [],
   "source": [
    "single_quoted_string = 'Data Science'\n",
    "print(single_quoted_string, type(single_quoted_string))"
   ]
  },
  {
   "cell_type": "code",
   "execution_count": null,
   "metadata": {},
   "outputs": [],
   "source": [
    "print(len(single_quoted_string))    # tamanho da string\n",
    "print(single_quoted_string.upper()) # colocar caracteres em maiusculo\n",
    "print(single_quoted_string.lower()) # colocar caracteres em minusculo"
   ]
  },
  {
   "cell_type": "markdown",
   "metadata": {},
   "source": [
    "Podemos facilmente substituir a ocorrência de um caractere/substring utilizando o método *replace*"
   ]
  },
  {
   "cell_type": "code",
   "execution_count": null,
   "metadata": {},
   "outputs": [],
   "source": [
    "str1 = 'Hoje_vai_chover_novamente.'.replace('_', ' ')\n",
    "print(str1)"
   ]
  },
  {
   "cell_type": "markdown",
   "metadata": {},
   "source": [
    "Outra operação interessante de limpeza de strings é o *strip*, o qual remove os espaços em branco no começo e no final da string"
   ]
  },
  {
   "cell_type": "code",
   "execution_count": null,
   "metadata": {},
   "outputs": [],
   "source": [
    "print(' Hello '.strip())  # remove no começo e no final\n",
    "print(' Hello '.lstrip()) # remove no começo\n",
    "print(' Hello '.rstrip()) # remove no final"
   ]
  },
  {
   "cell_type": "markdown",
   "metadata": {},
   "source": [
    "Também podemos criar string mais longas, com múltiplas linhas, utilizando um total de 6 aspas (3 para abrir e 3 para fechar)"
   ]
  },
  {
   "cell_type": "code",
   "execution_count": null,
   "metadata": {},
   "outputs": [],
   "source": [
    "multi_line_string = \"\"\"linha 1\n",
    "linha 2\n",
    "linha 3\"\"\"\n",
    "print(multi_line_string)\n",
    "print(repr(multi_line_string))"
   ]
  },
  {
   "cell_type": "markdown",
   "metadata": {},
   "source": [
    "Quando temos strings que contém múltiplas informações e desejamos separá-la, podemos usar a função *split*, informando o caractere/substring a ser utilizado para dividir a string"
   ]
  },
  {
   "cell_type": "code",
   "execution_count": null,
   "metadata": {},
   "outputs": [],
   "source": [
    "multi_line_string.split(\"\\n\")"
   ]
  },
  {
   "cell_type": "markdown",
   "metadata": {},
   "source": [
    "Fato interessante: strings em python podem ser manipuladas com operadores de soma (concatenação) ou multiplicação (repetição)"
   ]
  },
  {
   "cell_type": "code",
   "execution_count": null,
   "metadata": {},
   "outputs": [],
   "source": [
    "print(\"Big\" + \" \" + \"Data\")\n",
    "print('Repete ' * 5)"
   ]
  },
  {
   "cell_type": "markdown",
   "metadata": {},
   "source": [
    "Existem algumas maneiras de interpolar strings, ou seja, injetar valores dentro dela"
   ]
  },
  {
   "cell_type": "code",
   "execution_count": null,
   "metadata": {},
   "outputs": [],
   "source": [
    "# %d e %f indicam, respectivamente, que um número inteiro ou ponto flutuante será inserido\n",
    "print(\"%d/%f/%d\" % (2, 4.5, 6))\n",
    "print(\"%s/%s/%s\" % ('a', 2, False)) # %s indica que algo será inserido como string"
   ]
  },
  {
   "cell_type": "markdown",
   "metadata": {},
   "source": [
    "Outra maneira de interpolar strings é usando o *format*"
   ]
  },
  {
   "cell_type": "code",
   "execution_count": null,
   "metadata": {},
   "outputs": [],
   "source": [
    "print(\"{}/{}/{}\".format(2, 4, 6))\n",
    "print(\"{:2d}/{:2d}/{:2d}\".format(2, 4, 16))\n",
    "print(\"{:02d}/{:02d}/{:02d}\".format(2, 4, 160))\n",
    "print('{:.2f}'.format(99.8765))\n",
    "print('{:.0f}'.format(99.8765))"
   ]
  },
  {
   "cell_type": "markdown",
   "metadata": {},
   "source": [
    "### Condições\n",
    "\n",
    "Estruturas condicionais em Python seguem a mesma lógica de diversas outras linguagens. Uma diferença é que, para os casos em que encadeamos várias condições, para não escrevermos *else if ...* temos o operador *elif*"
   ]
  },
  {
   "cell_type": "code",
   "execution_count": null,
   "metadata": {},
   "outputs": [],
   "source": [
    "valor = 99\n",
    "if valor == 99:\n",
    "    print('veloz')\n",
    "elif value > 200:\n",
    "    print('muito veloz')\n",
    "else:\n",
    "    print('lento')"
   ]
  },
  {
   "cell_type": "markdown",
   "metadata": {},
   "source": [
    "#### Atribuição ternário\n",
    "\n",
    "Python também conta com atribuição ternária"
   ]
  },
  {
   "cell_type": "code",
   "execution_count": null,
   "metadata": {},
   "outputs": [],
   "source": [
    "x = 5\n",
    "par_ou_impar = \"par\" if x % 2 == 0 else \"impar\"\n",
    "print(par_ou_impar)"
   ]
  },
  {
   "cell_type": "markdown",
   "metadata": {},
   "source": [
    "### Laços / Loops\n",
    "Em Python, a estrutura de repetição *while* funciona de maneira análoga a diversas outras linguagens:"
   ]
  },
  {
   "cell_type": "code",
   "execution_count": null,
   "metadata": {},
   "outputs": [],
   "source": [
    "x = 0\n",
    "while x < 5:\n",
    "    print(x)\n",
    "    x += 1\n"
   ]
  },
  {
   "cell_type": "markdown",
   "metadata": {},
   "source": [
    "Entretanto, o *for* funciona iterando sobre uma coleção/sequência de valores. Existem diversas maneiras de fazer isso:"
   ]
  },
  {
   "cell_type": "code",
   "execution_count": null,
   "metadata": {},
   "outputs": [],
   "source": [
    "# definindo um intervalo\n",
    "\n",
    "for i in range(10): # de 0 a 9, pulando de 1 em 1\n",
    "    print(i, end= \" \")\n",
    "    \n",
    "print()\n",
    "\n",
    "for i in range(5,10): # de 5 a 9, pulando de 1 em 1\n",
    "    print(i, end= \" \")\n",
    "    \n",
    "print()\n",
    "\n",
    "for i in range(0,10,2): # de 0 a 9, pulando de 2 em 2\n",
    "    print(i, end= \" \")\n",
    "    \n",
    "print()"
   ]
  },
  {
   "cell_type": "code",
   "execution_count": null,
   "metadata": {},
   "outputs": [],
   "source": [
    "# utilizando uma sequência pre-definida\n",
    "a = [1, 3, 4, 5, 7]\n",
    "for i in a:\n",
    "    print(i)"
   ]
  },
  {
   "cell_type": "code",
   "execution_count": null,
   "metadata": {},
   "outputs": [],
   "source": [
    "# a função enumerate retorna uma lista de pares (i,x), onde: \n",
    "# i é o índice (0, 1, 2, ...)\n",
    "# x é o elemento da sequência original\n",
    "a = [1, 3, 4, 5, 7]\n",
    "for indice, valor in enumerate(a):\n",
    "    print(indice, valor)"
   ]
  },
  {
   "cell_type": "code",
   "execution_count": null,
   "metadata": {},
   "outputs": [],
   "source": [
    "# podemos também percorrer uma coleção mas não utilizar o valor daquele passo\n",
    "for _ in range(5):\n",
    "    print('oi')"
   ]
  },
  {
   "cell_type": "code",
   "execution_count": null,
   "metadata": {},
   "outputs": [],
   "source": [
    "# existem também dois operadores dentro de um for:\n",
    "# continue - encerra o passo atual e passa para o próximo\n",
    "# break - encerra o laço\n",
    "for x in range(10):\n",
    "    if x == 3:\n",
    "        continue\n",
    "    if x == 5:\n",
    "        break\n",
    "    print(x)\n"
   ]
  },
  {
   "cell_type": "markdown",
   "metadata": {},
   "source": [
    "### Funções\n",
    "\n",
    "Para definir uma função em python, basta utilizarmos a seguinte estrutua:\n",
    "\n",
    "```\n",
    "def nome_da_função (argumento1, argumento2, ...): \n",
    "    corpo da função\n",
    "```"
   ]
  },
  {
   "cell_type": "code",
   "execution_count": null,
   "metadata": {},
   "outputs": [],
   "source": [
    "def soma(a, b):\n",
    "    return a + b\n",
    "\n",
    "print(soma(3, 5))\n",
    "print(soma('casa ', 'organizada'))"
   ]
  },
  {
   "cell_type": "markdown",
   "metadata": {},
   "source": [
    "#### Manipulando Funções\n",
    "\n",
    "Python pode ser considerada uma linguagem **funcional**. Uma das características do paradigma funcional é permitir que uma função seja manipulada como um valor ou variável, ou seja, podemos passar funções como argumentos para outras funções"
   ]
  },
  {
   "cell_type": "code",
   "execution_count": null,
   "metadata": {},
   "outputs": [],
   "source": [
    "def f1():\n",
    "    print(\"Function 1\")\n",
    "    \n",
    "def f2():\n",
    "    print(\"Function 2\")\n",
    "    \n",
    "def chamar_funcao(f):\n",
    "    f()\n",
    "    \n",
    "chamar_funcao(f1)\n",
    "chamar_funcao(f2)"
   ]
  },
  {
   "cell_type": "markdown",
   "metadata": {},
   "source": [
    "Existem também as funções anônimas (chamadas, em Python, de **lambda**). Uma função *anônima* é uma função que contém apenas a assinatura e o corpo, sem um nome definido. Em Python, elas recebem o nome de *lambda* pois elas são funções de um comando só (diferente de linguagens como Javascript e Scala, que permitem funções anônimas de múltiplas linhas)."
   ]
  },
  {
   "cell_type": "code",
   "execution_count": null,
   "metadata": {},
   "outputs": [],
   "source": [
    "chamar_funcao(lambda : print(\"Lambda function\"))"
   ]
  },
  {
   "cell_type": "markdown",
   "metadata": {},
   "source": [
    "### Data\n",
    "Em Python, podemos manipular informações de data, hora e tempo utilizando o módulo *datetime*"
   ]
  },
  {
   "cell_type": "code",
   "execution_count": null,
   "metadata": {},
   "outputs": [],
   "source": [
    "from datetime import datetime\n",
    "import time\n",
    "\n",
    "inicio = datetime.now() # obtém o timestamp do momento atual\n",
    "print(inicio)\n",
    "for i in range(2):\n",
    "    time.sleep(1) # aplica um delay, em segundos\n",
    "fim = datetime.now()\n",
    "print(fim)\n",
    "print(\"Tempo de execução: {}\".format(fim - inicio))"
   ]
  },
  {
   "cell_type": "markdown",
   "metadata": {},
   "source": [
    "### Listas\n",
    "\n",
    "Quando desejamos trabalhar com uma sequência de dados, podemos utilizar uma lista"
   ]
  },
  {
   "cell_type": "code",
   "execution_count": null,
   "metadata": {},
   "outputs": [],
   "source": [
    "lista = [1, 2, 3, 4, 5]\n",
    "print(lista)"
   ]
  },
  {
   "cell_type": "markdown",
   "metadata": {},
   "source": [
    "Existem diversas maneiras de acessar os elementos de uma lista:"
   ]
  },
  {
   "cell_type": "code",
   "execution_count": null,
   "metadata": {},
   "outputs": [],
   "source": [
    "lista[2] #elemento da lista"
   ]
  },
  {
   "cell_type": "code",
   "execution_count": null,
   "metadata": {},
   "outputs": [],
   "source": [
    "lista[-1] # último elemento"
   ]
  },
  {
   "cell_type": "code",
   "execution_count": null,
   "metadata": {},
   "outputs": [],
   "source": [
    "lista[1:3] #sublista"
   ]
  },
  {
   "cell_type": "code",
   "execution_count": null,
   "metadata": {},
   "outputs": [],
   "source": [
    "lista[:3] # 3 primeiros elementos"
   ]
  },
  {
   "cell_type": "code",
   "execution_count": null,
   "metadata": {},
   "outputs": [],
   "source": [
    "lista[-2:] # 2 últimos elementos"
   ]
  },
  {
   "cell_type": "code",
   "execution_count": null,
   "metadata": {},
   "outputs": [],
   "source": [
    "lista[1:-1] # do segundo ao penúltimo elemento"
   ]
  },
  {
   "cell_type": "markdown",
   "metadata": {},
   "source": [
    "O operador *len* pode ser utilizado para medir tamanhos de objetos com múltiplas informações (strings, lista, etc.)"
   ]
  },
  {
   "cell_type": "code",
   "execution_count": null,
   "metadata": {},
   "outputs": [],
   "source": [
    "len(lista)"
   ]
  },
  {
   "cell_type": "markdown",
   "metadata": {},
   "source": [
    "Podemos somar elementos de uma lista simplesmente usando a função *sum*"
   ]
  },
  {
   "cell_type": "code",
   "execution_count": null,
   "metadata": {},
   "outputs": [],
   "source": [
    "sum(lista)"
   ]
  },
  {
   "cell_type": "markdown",
   "metadata": {},
   "source": [
    "Podemos também consultar a pertinência de um elemento em uma lista utilizando o operador *in*"
   ]
  },
  {
   "cell_type": "code",
   "execution_count": null,
   "metadata": {},
   "outputs": [],
   "source": [
    "print(10 in lista)\n",
    "print(5 in lista)"
   ]
  },
  {
   "cell_type": "markdown",
   "metadata": {},
   "source": [
    "Em Python, as listas são **mutáveis**, ou seja, ela pode ser modificada."
   ]
  },
  {
   "cell_type": "code",
   "execution_count": null,
   "metadata": {},
   "outputs": [],
   "source": [
    "lista.append(7) # adiciona elemento na lista\n",
    "lista.append(6)\n",
    "lista.append(7)\n",
    "print(lista)\n",
    "\n",
    "lista.remove(7) # remove o primeiro elemento cujo valor é 7\n",
    "print(lista)\n",
    "\n",
    "lista.extend([8, 9, -10]) #extende a lista com outra lista\n",
    "lista"
   ]
  },
  {
   "cell_type": "markdown",
   "metadata": {},
   "source": [
    "Por padrão, as variáveis em Python (quando apontando para tipos de dados mais complexos) são **ponteiros**, ou seja, elas são uma referência a um dado alocado na memória. Logo, quando salvamos o valor de uma variável A em uma variável B, estamos apenas dizendo que B **aponta** para a mesma informação que A"
   ]
  },
  {
   "cell_type": "code",
   "execution_count": null,
   "metadata": {},
   "outputs": [],
   "source": [
    "lista2 = lista  # lista2 referencia lista\n",
    "lista2[-1] = 10\n",
    "print(lista)\n",
    "print(lista2)"
   ]
  },
  {
   "cell_type": "markdown",
   "metadata": {},
   "source": [
    "Embora a lista seja mutável, as operações de acesso aos elementos (com o operador \\[ \\]) retornam *novos* elementos. Logo, podemos fazer uma cópia de uma lista da seguinte maneira"
   ]
  },
  {
   "cell_type": "code",
   "execution_count": null,
   "metadata": {},
   "outputs": [],
   "source": [
    "lista3 = lista[:]  # lista3 é uma nova lista com o mesmo conteúdo de lista\n",
    "lista3[-1] = -10\n",
    "print(lista)\n",
    "print(lista3)"
   ]
  },
  {
   "cell_type": "markdown",
   "metadata": {},
   "source": [
    "Existem duas maneiras de se ordenar uma lista em Python: uma abordagem mutável (que altera a lista original) e uma imutável (que retorna uma nova lista ordenada)"
   ]
  },
  {
   "cell_type": "code",
   "execution_count": null,
   "metadata": {},
   "outputs": [],
   "source": [
    "lista4 = [-4, 1, -2, 3]\n",
    "\n",
    "print(sorted(lista4)) # ordena sem alterar a lista\n",
    "print(sorted(lista4, reverse=True))\n",
    "print(sorted(lista4, key=abs))\n",
    "print(lista4)\n",
    "\n",
    "lista4.sort() # altera a lista original\n",
    "print(lista4)"
   ]
  },
  {
   "cell_type": "markdown",
   "metadata": {},
   "source": [
    "O módulo **random** contém também um conjunto de funções para trabalharmos com listas. Podemos embaralhá-las, escolher um elemento aleatório ou obter uma amostra de tamanho *n*"
   ]
  },
  {
   "cell_type": "code",
   "execution_count": null,
   "metadata": {},
   "outputs": [],
   "source": [
    "import random\n",
    "\n",
    "a = ['a', 'casa', 'está', 'muito', 'bem', 'organizada']\n",
    "\n",
    "random.shuffle(a) # mutável\n",
    "print(a)\n",
    "random.shuffle(a)\n",
    "print(a)\n",
    "\n",
    "random.choice(a) # com repetição\n",
    "\n",
    "numeros = range(1, 100)\n",
    "random.sample(numeros, 5) # sem repetição"
   ]
  },
  {
   "cell_type": "markdown",
   "metadata": {},
   "source": [
    "A representação padrão de lista em string é uma sequência das strings de seu conteúdo, separado por ', ' e cercados por colchetes. O método **join**, de strings, existe para usar uma string como *separador* de uma lista, conforme o exemplo abaixo"
   ]
  },
  {
   "cell_type": "code",
   "execution_count": null,
   "metadata": {},
   "outputs": [],
   "source": [
    "print(a)\n",
    "print(' '.join(a))"
   ]
  },
  {
   "cell_type": "markdown",
   "metadata": {},
   "source": [
    "**OBS**: se um elemento da lista **não for uma string**, o método *join* não funciona"
   ]
  },
  {
   "cell_type": "code",
   "execution_count": null,
   "metadata": {},
   "outputs": [],
   "source": [
    "b = [1, 'a', 25, 'abc']\n",
    "print(b)\n",
    "print(' '.join(b))"
   ]
  },
  {
   "cell_type": "markdown",
   "metadata": {},
   "source": [
    "### Operações funcionais sobre listas\n",
    "Existem algumas funções primitivas para operar sobre os elementos de uma lista. Duas delas são **transformação** (*map*) e filtragem (*filter*)."
   ]
  },
  {
   "cell_type": "markdown",
   "metadata": {},
   "source": [
    "#### Transformação\n",
    "\n",
    "O objetivo desta função é, como o próprio nome sugere, *transformar* os elementos de uma lista, gerando uma nova lista. Em termos mais matemáticos: dada uma função *f(x)* definida para todos os elementos de uma lista *L* [a1, a2, ..., an], será gerada uma nova lista *L2* [b1, b2, ..., bn] tal que *bi = f(ai)*.\n",
    "\n",
    "Para realizar uma trnasformação, utilizamos a função *map*"
   ]
  },
  {
   "cell_type": "code",
   "execution_count": null,
   "metadata": {},
   "outputs": [],
   "source": [
    "a = [1, 2, 3, 4, 5]\n",
    "\n",
    "doubled_a = map(lambda x: 2*x, a)\n",
    "doubled_a"
   ]
  },
  {
   "cell_type": "markdown",
   "metadata": {},
   "source": [
    "O retorno do *map* é *iterador*, ou seja, os seus valores só existirão qdo forem chamados (seja em um *for*, outro *map* ou fazendo um *cast* para lista) e, uma vez que forem consumidos, o *iterador* fica vazio"
   ]
  },
  {
   "cell_type": "code",
   "execution_count": null,
   "metadata": {},
   "outputs": [],
   "source": [
    "#descomente uma alternativa para checar seu funcionamento\n",
    "\n",
    "doubled_a = map(lambda x: 2*x, a)\n",
    "\n",
    "# for x in doubled_a:\n",
    "#     print(x, end=\" \")\n",
    "\n",
    "# str_doubled_a = map(lambda x: str(x), doubled_a)\n",
    "# print(\" \".join(str_doubled_a))\n",
    "\n",
    "# list(doubled_a)"
   ]
  },
  {
   "cell_type": "markdown",
   "metadata": {},
   "source": [
    "#### Filtragem\n",
    "\n",
    "Obviedades a parte, o objetivo dessa operação é gerar uma nova coleção apenas com os elementos que satisfaçam uma condição. De maneira mais matemática: dado um predicado *p(x)* definido para todos os elementos de uma lista *L* [a1, a2, ..., an], será gerada uma nova lista *L2* [b1, b2, ..., bm] tal que *bi $\\in$ L* e *p(bi)* é verdade."
   ]
  },
  {
   "cell_type": "code",
   "execution_count": null,
   "metadata": {},
   "outputs": [],
   "source": [
    "even_a = filter(lambda x: x%2 == 0, a)\n",
    "even_a"
   ]
  },
  {
   "cell_type": "markdown",
   "metadata": {},
   "source": [
    "Novamente temos um *iterator* como retorno. Podemos utilizar as mesmas abordagens do *iteratoor* apresentado no *map*"
   ]
  },
  {
   "cell_type": "code",
   "execution_count": null,
   "metadata": {},
   "outputs": [],
   "source": [
    "#descomente uma alternativa para checar seu funcionamento\n",
    "\n",
    "even_a = filter(lambda x: x%2 == 0, a)\n",
    "\n",
    "# for x in even_a:\n",
    "#     print(x, end=\" \")\n",
    "\n",
    "# str_even_a = map(lambda x: str(x), even_a)\n",
    "# print(\" \".join(str_even_a))\n",
    "\n",
    "# list(even_a)"
   ]
  },
  {
   "cell_type": "markdown",
   "metadata": {},
   "source": [
    "#### Combinando transformação e filtragem: Compressão de Listas\n",
    "\n",
    "Uma maneira prática para combinar as operações de transformação e filtragem é utilizar uma *compressão de lista*. A anatomia da compressão de lista é a seguinte:\n",
    "\n",
    "[f(x) for x in lista if p(x)]"
   ]
  },
  {
   "cell_type": "code",
   "execution_count": null,
   "metadata": {},
   "outputs": [],
   "source": [
    "quadrados = [x * x for x in range(5)]\n",
    "print(quadrados)\n",
    "\n",
    "quadrados_dos_pares = [x * x for x in range(5) if x%2 == 0]\n",
    "print(quadrados_dos_pares)"
   ]
  },
  {
   "cell_type": "markdown",
   "metadata": {},
   "source": [
    "### Tuplas\n",
    "\n",
    "Tuplas são grupos ordenados de valores. Esse par é *imutável* e normalmente é utilizado para representar informações estruturadas (linha de um *csv*, tupla de um banco de dados, etc)"
   ]
  },
  {
   "cell_type": "code",
   "execution_count": null,
   "metadata": {},
   "outputs": [],
   "source": [
    "tupla = (1, 2, 3, 4)\n",
    "print(tupla)"
   ]
  },
  {
   "cell_type": "markdown",
   "metadata": {},
   "source": [
    "### Dicionários\n",
    "\n",
    "Dicionários são pares de chave : valor, utilizados para representar um dado cujos valores tem uma semântica atribuída a ela."
   ]
  },
  {
   "cell_type": "code",
   "execution_count": null,
   "metadata": {},
   "outputs": [],
   "source": [
    "dicionario = { 'nome': 'Fulano', 'sobrenome': 'Da Silva' }\n",
    "print(dicionario['nome'])\n",
    "print(dicionario['sobrenome'])"
   ]
  },
  {
   "cell_type": "markdown",
   "metadata": {},
   "source": [
    "Em Python, podemos acessar, separadamente, suas chaves e seus valores"
   ]
  },
  {
   "cell_type": "code",
   "execution_count": null,
   "metadata": {},
   "outputs": [],
   "source": [
    "print(dicionario.keys())\n",
    "print(dicionario.values())"
   ]
  }
 ],
 "metadata": {
  "anaconda-cloud": {},
  "kernelspec": {
   "display_name": "Python 3",
   "language": "python",
   "name": "python3"
  },
  "language_info": {
   "codemirror_mode": {
    "name": "ipython",
    "version": 3
   },
   "file_extension": ".py",
   "mimetype": "text/x-python",
   "name": "python",
   "nbconvert_exporter": "python",
   "pygments_lexer": "ipython3",
   "version": "3.7.6"
  }
 },
 "nbformat": 4,
 "nbformat_minor": 1
}
