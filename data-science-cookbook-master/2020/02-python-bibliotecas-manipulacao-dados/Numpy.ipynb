{
 "cells": [
  {
   "cell_type": "markdown",
   "metadata": {},
   "source": [
    "# NumPy\n",
    "\n",
    "Numpy é um pacote fundamental para programação científica com Python. Ele traz consigo uma variedade de operações matemáticas, principalmente referente à operações algébricas com dados N-dimensionais!"
   ]
  },
  {
   "cell_type": "code",
   "execution_count": null,
   "metadata": {},
   "outputs": [],
   "source": [
    "import numpy as np"
   ]
  },
  {
   "cell_type": "markdown",
   "metadata": {},
   "source": [
    "A base de seu funcionamento é o *np.array*, que retorna o objeto *array* sobre o qual todas as funções estão implementadas"
   ]
  },
  {
   "cell_type": "code",
   "execution_count": null,
   "metadata": {},
   "outputs": [],
   "source": [
    "a = np.array([1, 2, 3])\n",
    "print(repr(a), a.shape, end=\"\\n\\n\")\n",
    "\n",
    "b = np.array([(1, 2, 3), (4, 5, 6)])\n",
    "print(repr(b), b.shape)"
   ]
  },
  {
   "cell_type": "markdown",
   "metadata": {},
   "source": [
    "O array traz consigo diversos operadores já implementados:"
   ]
  },
  {
   "cell_type": "code",
   "execution_count": null,
   "metadata": {},
   "outputs": [],
   "source": [
    "print(b.T, end=\"\\n\\n\") # transpoe uma matriz\n",
    "print(a + b, end=\"\\n\\n\") # soma um vetor linha/coluna a todas as linhas/colunas de uma matriz\n",
    "print(b - a, end=\"\\n\\n\") # subtrai um vetor linha/coluna a todas as linhas/colunas de uma matriz\n",
    "\n",
    "# multiplica os elementos de um vetor linha/coluna \n",
    "# a todos os elementos das linhas/colunas de uma matriz\n",
    "print(a * b, end=\"\\n\\n\") \n",
    "\n",
    "print(a**2, end=\"\\n\\n\") # eleva os elementos ao quadrado"
   ]
  },
  {
   "cell_type": "markdown",
   "metadata": {},
   "source": [
    "O Numpy traz consigo diversas operações matemáticas implementadas, as quais podem ser aplicadas sobre um valor ou um array de valores.\n",
    "\n",
    "**OBS:** podemos ver a aplicações dessas funções como uma operação de transformação (*map*)"
   ]
  },
  {
   "cell_type": "code",
   "execution_count": null,
   "metadata": {},
   "outputs": [],
   "source": [
    "print(10*np.sin(1)) # seno trigonométrico de 1\n",
    "print(10*np.sin(a)) # seno trigonométrico de cada elemento de a"
   ]
  },
  {
   "cell_type": "markdown",
   "metadata": {},
   "source": [
    "Uma operação booleana pode ser aplicada sobre todos os elementos de um array, retornando um array de mesmas dimensões com o resultado da operação"
   ]
  },
  {
   "cell_type": "code",
   "execution_count": null,
   "metadata": {},
   "outputs": [],
   "source": [
    "b<35"
   ]
  },
  {
   "cell_type": "markdown",
   "metadata": {},
   "source": [
    "Existem também operações utilitárias pré-definidas em um array"
   ]
  },
  {
   "cell_type": "code",
   "execution_count": null,
   "metadata": {},
   "outputs": [],
   "source": [
    "print(b,end=\"\\n\\n\")\n",
    "print('Axis 1: %s' % b[0], end=\"\\n\\n\") # retorna um vetor\n",
    "print(np.average(b), end=\"\\n\\n\") # tira a média dos elementos\n",
    "print(np.average(b, axis=1), end=\"\\n\\n\") # tira a média dos elementos dos vetores no eixo 1\n",
    "print(b.sum(), end=\"\\n\\n\") # retorna as somas dos valores\n",
    "print(b.sum(axis=1), end=\"\\n\\n\") # retorna as somas dos valores no eixo 1\n",
    "print(b.min(), end=\"\\n\\n\") # retorna o menor valor\n",
    "print(b.max(), end=\"\\n\\n\") # retorna o maior valor"
   ]
  },
  {
   "cell_type": "markdown",
   "metadata": {},
   "source": [
    "Existem também funções para gerar arrays pré-inicializados"
   ]
  },
  {
   "cell_type": "code",
   "execution_count": null,
   "metadata": {},
   "outputs": [],
   "source": [
    "print(np.zeros((3, 5)), end=\"\\n\\n\") # array de zeros com dimensões [3,5]\n",
    "print(np.ones((2,3,4)), end=\"\\n\\n------------\\n\\n\") # array de uns com dimensões [2,3,4]\n",
    "print(np.full((2, 2), 10), end=\"\\n\\n\") # array de 10 com dimensões [2,2]\n",
    "print(np.arange(10, 30, 5), end=\"\\n\\n\") # valores de 10 a 30 com passo 5\n",
    "print(np.random.rand(2, 3), end=\"\\n\\n\") # array cde dimensao [2,3] com valores aleatórios"
   ]
  },
  {
   "cell_type": "markdown",
   "metadata": {},
   "source": [
    "Podemos selecionar intervalos do array, permitindo recuperar apenas uma porção dele"
   ]
  },
  {
   "cell_type": "code",
   "execution_count": null,
   "metadata": {},
   "outputs": [],
   "source": [
    "d = np.array([[1, 2, 3], [4, 5, 6], [7, 8, 9]])\n",
    "d"
   ]
  },
  {
   "cell_type": "code",
   "execution_count": null,
   "metadata": {},
   "outputs": [],
   "source": [
    "d[:, 0] # todas as linhas (:) da primeira coluna (0)"
   ]
  },
  {
   "cell_type": "code",
   "execution_count": null,
   "metadata": {},
   "outputs": [],
   "source": [
    "d[:, 1] # todas as linhas (:) da segunda coluna (1)"
   ]
  },
  {
   "cell_type": "code",
   "execution_count": null,
   "metadata": {},
   "outputs": [],
   "source": [
    "d[:, 0:2] # todas as linhas (:) das colunas de 0 à 2"
   ]
  },
  {
   "cell_type": "code",
   "execution_count": null,
   "metadata": {},
   "outputs": [],
   "source": [
    "d[:, 2] # todas as linhas (:) da terceira coluna (2)"
   ]
  },
  {
   "cell_type": "markdown",
   "metadata": {
    "collapsed": true
   },
   "source": [
    "O Numpy conta também com funções para salvar/ler arrays de arquivos"
   ]
  },
  {
   "cell_type": "code",
   "execution_count": null,
   "metadata": {},
   "outputs": [],
   "source": [
    "x = np.array([0, 1, 2, 3, 4, 5, 6, 7, 8, 9])\n",
    "np.save('/tmp/x.npy', x)\n",
    "del(x)\n",
    "x = np.load('/tmp/x.npy')\n",
    "print(x)"
   ]
  },
  {
   "cell_type": "markdown",
   "metadata": {},
   "source": [
    "## Exercícios opcionais\n",
    "\n",
    "100 exercícios de NumPy para expandir seus horizones\n",
    "\n",
    "https://github.com/rougier/numpy-100"
   ]
  },
  {
   "cell_type": "code",
   "execution_count": null,
   "metadata": {},
   "outputs": [],
   "source": []
  }
 ],
 "metadata": {
  "anaconda-cloud": {},
  "kernelspec": {
   "display_name": "Python 3",
   "language": "python",
   "name": "python3"
  },
  "language_info": {
   "codemirror_mode": {
    "name": "ipython",
    "version": 3
   },
   "file_extension": ".py",
   "mimetype": "text/x-python",
   "name": "python",
   "nbconvert_exporter": "python",
   "pygments_lexer": "ipython3",
   "version": "3.7.6"
  }
 },
 "nbformat": 4,
 "nbformat_minor": 1
}
