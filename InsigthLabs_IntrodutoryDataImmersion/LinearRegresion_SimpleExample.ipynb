{
  "nbformat": 4,
  "nbformat_minor": 0,
  "metadata": {
    "colab": {
      "name": "RegressaoLinear.ipynb",
      "provenance": []
    },
    "kernelspec": {
      "name": "python3",
      "display_name": "Python 3"
    }
  },
  "cells": [
    {
      "cell_type": "code",
      "metadata": {
        "id": "03z6D3q4moRH"
      },
      "source": [
        "%matplotlib inline\n",
        "import matplotlib.pyplot as plt\n",
        "import numpy as np"
      ],
      "execution_count": 8,
      "outputs": []
    },
    {
      "cell_type": "code",
      "metadata": {
        "id": "mkrJQxjKmpbT"
      },
      "source": [
        "H=np.array([[100],\n",
        "            [110],\n",
        "            [50],\n",
        "            [70],\n",
        "            [80],\n",
        "            [40],\n",
        "            [100],\n",
        "            [55],\n",
        "            [75],\n",
        "            [82]])\n",
        "P=np.array([400000,410000,240000,300000,310000,220000,390000,280000,320000,330000])"
      ],
      "execution_count": 9,
      "outputs": []
    },
    {
      "cell_type": "code",
      "metadata": {
        "id": "pTQH1Xx4nHPm"
      },
      "source": [
        "from sklearn.linear_model import LinearRegression\n",
        "from sklearn.metrics import mean_squared_error"
      ],
      "execution_count": 10,
      "outputs": []
    },
    {
      "cell_type": "code",
      "metadata": {
        "id": "uJX6F2bInUNL",
        "outputId": "936d0fc3-4ad5-456c-ece6-42257059af26",
        "colab": {
          "base_uri": "https://localhost:8080/"
        }
      },
      "source": [
        "model = LinearRegression()\n",
        "model.fit(H,P)"
      ],
      "execution_count": 11,
      "outputs": [
        {
          "output_type": "execute_result",
          "data": {
            "text/plain": [
              "LinearRegression(copy_X=True, fit_intercept=True, n_jobs=None, normalize=False)"
            ]
          },
          "metadata": {
            "tags": []
          },
          "execution_count": 11
        }
      ]
    },
    {
      "cell_type": "code",
      "metadata": {
        "id": "2UYg5Fa-nfmQ",
        "outputId": "59e2cc15-7236-478c-dca0-71ab55e49ab5",
        "colab": {
          "base_uri": "https://localhost:8080/",
          "height": 268
        }
      },
      "source": [
        "y_predicted = model.predict(H)\n",
        "plt.scatter(H[:,0], P)\n",
        "plt.plot(np.array(H[:,0]),y_predicted, c='r')\n",
        "plt.xlim((20,120))\n",
        "plt.ylim(0,500000)\n",
        "plt.grid()"
      ],
      "execution_count": 15,
      "outputs": [
        {
          "output_type": "display_data",
          "data": {
            "image/png": "[encoded data removed]",
            "text/plain": [
              "<Figure size 432x288 with 1 Axes>"
            ]
          },
          "metadata": {
            "tags": [],
            "needs_background": "light"
          }
        }
      ]
    },
    {
      "cell_type": "code",
      "metadata": {
        "id": "NwwR65qTobEp",
        "outputId": "5bd57603-62c8-4ee1-b83f-7043d9b37f35",
        "colab": {
          "base_uri": "https://localhost:8080/"
        }
      },
      "source": [
        "error = np.sqrt(mean_squared_error(P,y_predicted))\n",
        "print(\"Mean Erro: {}\".format(error))"
      ],
      "execution_count": 17,
      "outputs": [
        {
          "output_type": "stream",
          "text": [
            "Mean Erro: 10539.347432900066\n"
          ],
          "name": "stdout"
        }
      ]
    }
  ]
}